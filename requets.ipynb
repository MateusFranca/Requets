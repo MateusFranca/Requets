{
  "nbformat": 4,
  "nbformat_minor": 0,
  "metadata": {
    "colab": {
      "provenance": [],
      "authorship_tag": "ABX9TyOQGLiTX9RkbuOUAG6hiND4",
      "include_colab_link": true
    },
    "kernelspec": {
      "name": "python3",
      "display_name": "Python 3"
    },
    "language_info": {
      "name": "python"
    }
  },
  "cells": [
    {
      "cell_type": "markdown",
      "metadata": {
        "id": "view-in-github",
        "colab_type": "text"
      },
      "source": [
        "<a href=\"https://colab.research.google.com/github/MateusFranca/Requets/blob/main/requets.ipynb\" target=\"_parent\"><img src=\"https://colab.research.google.com/assets/colab-badge.svg\" alt=\"Open In Colab\"/></a>"
      ]
    },
    {
      "cell_type": "markdown",
      "source": [
        "## Testando mais a biblioteca requests"
      ],
      "metadata": {
        "id": "Xf4P5vhMmNat"
      }
    },
    {
      "cell_type": "code",
      "execution_count": null,
      "metadata": {
        "colab": {
          "base_uri": "https://localhost:8080/"
        },
        "id": "wo_K3ZDnV1BJ",
        "outputId": "5d7bd3ba-79ee-44b1-f84f-5ad6032b03df"
      },
      "outputs": [
        {
          "output_type": "stream",
          "name": "stdout",
          "text": [
            "utf-8\n"
          ]
        }
      ],
      "source": [
        "import requests as rq\n",
        "\n",
        "url = 'https://www.youtube.com/watch?v=2X7iqB51FWY'\n",
        "\n",
        "r = rq.get(url)\n",
        "\n",
        "print(r.encoding)\n",
        "\n",
        "with open('youtube.html', 'wb') as f:\n",
        "  f.write(r.content)"
      ]
    },
    {
      "cell_type": "markdown",
      "source": [
        "## Utilizando o método POST - PYTHON"
      ],
      "metadata": {
        "id": "g1cwN729mTQI"
      }
    },
    {
      "cell_type": "code",
      "source": [
        "import requests as rq\n",
        "\n",
        "# Método post\n",
        "\n",
        "url = 'https://buscacepinter.correios.com.br/app/endereco/index.php'\n",
        "\n",
        "response = rq.post(url)\n",
        "\n",
        "with open('correios.html', 'w') as f:\n",
        "  f.write(response.text)\n",
        "\n",
        "\n"
      ],
      "metadata": {
        "id": "Gu4rQYhvmlbJ"
      },
      "execution_count": null,
      "outputs": []
    },
    {
      "cell_type": "markdown",
      "source": [
        "## Capiturando Cookies de sites"
      ],
      "metadata": {
        "id": "HVkFt0rqtEHU"
      }
    },
    {
      "cell_type": "code",
      "source": [
        "import requests as rq\n",
        "\n",
        "url = 'https://www.submarino.com.br/'\n",
        "\n",
        "try:\n",
        "    response = rq.get(url)\n",
        "    print(response.cookies.get_dict())\n",
        "except KeyboardInterrupt:\n",
        "    print('Solicitação interrompida pelo usuário.')\n"
      ],
      "metadata": {
        "colab": {
          "base_uri": "https://localhost:8080/"
        },
        "id": "DxQg2TDLtKOU",
        "outputId": "6e89cb0c-4780-481a-d553-10fddd2e53a2"
      },
      "execution_count": null,
      "outputs": [
        {
          "output_type": "stream",
          "name": "stdout",
          "text": [
            "Solicitação interrompida pelo usuário.\n"
          ]
        }
      ]
    },
    {
      "cell_type": "markdown",
      "source": [
        "## Acompanhando redirecionamento"
      ],
      "metadata": {
        "id": "aDgvrBtdvv5D"
      }
    },
    {
      "cell_type": "code",
      "source": [
        "import requests as rq\n",
        "\n",
        "url = rq.get('https://www.google.com/')\n",
        "\n",
        "print(url.status_code)\n"
      ],
      "metadata": {
        "colab": {
          "base_uri": "https://localhost:8080/"
        },
        "id": "8QllTV9jvy62",
        "outputId": "f7a15202-9114-42a1-847f-15f05e699dac"
      },
      "execution_count": null,
      "outputs": [
        {
          "output_type": "stream",
          "name": "stdout",
          "text": [
            "200\n"
          ]
        }
      ]
    },
    {
      "cell_type": "markdown",
      "source": [
        "## Usando TimeOut"
      ],
      "metadata": {
        "id": "gz7pSzwVxcS8"
      }
    },
    {
      "cell_type": "code",
      "source": [
        "# prompt: Mostre um exemplo usando timeout usando a bibliotca requests do googles por exemplo para ir para essa rota\n",
        "\n",
        "import requests as rq\n",
        "\n",
        "url = 'https://www.google.com/'\n",
        "\n",
        "try:\n",
        "    response = rq.get(url, timeout=0.05)\n",
        "    print(response.status_code)\n",
        "except rq.exceptions.Timeout:\n",
        "    print('Tempo limite excedido.')\n"
      ],
      "metadata": {
        "colab": {
          "base_uri": "https://localhost:8080/"
        },
        "id": "tzsLREdWxfSY",
        "outputId": "47a14799-8901-41e8-9774-978d1c7b47b1"
      },
      "execution_count": null,
      "outputs": [
        {
          "output_type": "stream",
          "name": "stdout",
          "text": [
            "Tempo limite excedido.\n"
          ]
        }
      ]
    },
    {
      "cell_type": "markdown",
      "source": [
        "##  Erros e exceções"
      ],
      "metadata": {
        "id": "tIj5NGO-zYTJ"
      }
    },
    {
      "cell_type": "code",
      "source": [
        "\n",
        "try:\n",
        "    response = rq.get('https://www.google.com/404')\n",
        "    response.raise_for_status()\n",
        "except rq.exceptions.HTTPError as err:\n",
        "    print(f'Erro de HTTP: {err}')\n",
        "except rq.exceptions.ConnectionError as err:\n",
        "    print(f'Erro de conexão: {err}')\n",
        "except rq.exceptions.Timeout as err:\n",
        "    print(f'Tempo limite excedido: {err}')\n",
        "except rq.exceptions.RequestException as err:\n",
        "    print(f'Erro desconhecido: {err}')\n"
      ],
      "metadata": {
        "colab": {
          "base_uri": "https://localhost:8080/"
        },
        "id": "7RYMNSxlzaD7",
        "outputId": "0841a447-1ad4-4d8b-d5fb-f5ba658b6410"
      },
      "execution_count": null,
      "outputs": [
        {
          "output_type": "stream",
          "name": "stdout",
          "text": [
            "Erro de HTTP: 404 Client Error: Not Found for url: https://www.google.com/404\n"
          ]
        }
      ]
    },
    {
      "cell_type": "markdown",
      "source": [
        "## Trabalhando com proxies"
      ],
      "metadata": {
        "id": "S5dEEcUx-H-Z"
      }
    },
    {
      "cell_type": "code",
      "source": [
        "import requests as rq\n",
        "\n",
        "proxies = {\n",
        "    'http': 'http://186.195.175.62/',\n",
        "}\n",
        "\n",
        "url = 'https://www.google.com/'\n",
        "\n",
        "response = rq.get(url, proxies=proxies)\n",
        "\n",
        "print(response.status_code)\n"
      ],
      "metadata": {
        "colab": {
          "base_uri": "https://localhost:8080/"
        },
        "id": "n_IEj9Y7-LNS",
        "outputId": "22a46742-4311-42b9-e8c4-a69ac81473d4"
      },
      "execution_count": null,
      "outputs": [
        {
          "output_type": "stream",
          "name": "stdout",
          "text": [
            "200\n"
          ]
        }
      ]
    },
    {
      "cell_type": "markdown",
      "source": [
        "## Download de imagens com requests"
      ],
      "metadata": {
        "id": "bcpFN-Pp_8W9"
      }
    },
    {
      "cell_type": "code",
      "source": [
        "import requests\n",
        "\n",
        "url = 'https://cdn.discordapp.com/attachments/1171436430267011192/1204430901027672075/image.png?ex=65d4b4b0&is=65c23fb0&hm=e493d0434330f472dbaf4d3a9b0be8078b713e914572a020b54cf7499015e8f0&'\n",
        "\n",
        "response = requests.get(url)\n",
        "\n",
        "with open('image.jpg', 'wb') as f:\n",
        "  f.write(response.content)\n"
      ],
      "metadata": {
        "id": "6f4eF1YoAAjR"
      },
      "execution_count": null,
      "outputs": []
    },
    {
      "cell_type": "markdown",
      "source": [
        "## Autenticação simples com requests"
      ],
      "metadata": {
        "id": "6YoDU3nwB25O"
      }
    },
    {
      "cell_type": "code",
      "source": [
        "import requests\n",
        "\n",
        "url = 'https://httpbin.org/basic-auth/user/passwd'\n",
        "\n",
        "auth = ('user', 'passwd')\n",
        "\n",
        "response = requests.get(url, auth=auth)\n",
        "\n",
        "print(response.status_code)\n"
      ],
      "metadata": {
        "colab": {
          "base_uri": "https://localhost:8080/"
        },
        "id": "91zQIkYcB4_H",
        "outputId": "41ba3ded-4f06-40fe-b14e-2d59c0b6e5ab"
      },
      "execution_count": null,
      "outputs": [
        {
          "output_type": "stream",
          "name": "stdout",
          "text": [
            "200\n"
          ]
        }
      ]
    },
    {
      "cell_type": "code",
      "source": [
        "import requests\n",
        "\n",
        "url = 'http://186.195.175.62/login'\n",
        "\n",
        "auth = ('mateus.cunha', 'Mateus123@')\n",
        "\n",
        "response = requests.get(url, auth=auth)\n",
        "\n",
        "print(response.status_code)\n",
        "print(response.text)"
      ],
      "metadata": {
        "colab": {
          "base_uri": "https://localhost:8080/"
        },
        "id": "65gGsQPcCHes",
        "outputId": "23de9d69-e2b5-413f-840d-2163e4050b0c"
      },
      "execution_count": null,
      "outputs": [
        {
          "output_type": "stream",
          "name": "stdout",
          "text": [
            "200\n",
            "<!doctype html>\n",
            "<html lang=\"pt-br\">\n",
            "  <head>\n",
            "    <meta charset=\"UTF-8\" />\n",
            "    <link rel=\"icon\" type=\"image/svg+xml\" href=\"/assets/logo-s7LU6E3A.svg\" />\n",
            "    <meta name=\"viewport\" content=\"width=device-width, initial-scale=1.0\" />\n",
            "    <title>Sille</title>\n",
            "    <script type=\"module\" crossorigin src=\"/assets/index-yRhfoAga.js\"></script>\n",
            "    <link rel=\"stylesheet\" crossorigin href=\"/assets/index-wNL5k0Jc.css\">\n",
            "  </head>\n",
            "  <body>\n",
            "    <div id=\"app\"></div>\n",
            "  </body>\n",
            "</html>\n",
            "\n"
          ]
        }
      ]
    }
  ]
}